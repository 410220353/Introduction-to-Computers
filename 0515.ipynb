{
  "nbformat": 4,
  "nbformat_minor": 0,
  "metadata": {
    "colab": {
      "provenance": [],
      "authorship_tag": "ABX9TyMtjWRMepAzy/+BBYxkUmFh",
      "include_colab_link": true
    },
    "kernelspec": {
      "name": "python3",
      "display_name": "Python 3"
    },
    "language_info": {
      "name": "python"
    }
  },
  "cells": [
    {
      "cell_type": "markdown",
      "metadata": {
        "id": "view-in-github",
        "colab_type": "text"
      },
      "source": [
        "<a href=\"https://colab.research.google.com/github/410220353/Introduction-to-Computers/blob/main/0515.ipynb\" target=\"_parent\"><img src=\"https://colab.research.google.com/assets/colab-badge.svg\" alt=\"Open In Colab\"/></a>"
      ]
    },
    {
      "cell_type": "code",
      "execution_count": 1,
      "metadata": {
        "colab": {
          "base_uri": "https://localhost:8080/"
        },
        "id": "bXC7cSOzU96j",
        "outputId": "a876ab90-a487-4ee7-b4b5-c25a369a2566"
      },
      "outputs": [
        {
          "output_type": "stream",
          "name": "stdout",
          "text": [
            "0515\n"
          ]
        }
      ],
      "source": [
        "print(\"0515\")"
      ]
    },
    {
      "cell_type": "code",
      "source": [
        "體溫 = int(input(\"請輸入體溫: \"))\n",
        "if 體溫 > 37.5:\n",
        "    print(' 體溫過高!')\n",
        "elif 體溫 >= 37.4-37:\n",
        "    print(' 體溫略高!')\n",
        "elif 體溫 >= 34-36.9:\n",
        "    print(' 體溫正常!')\n",
        "else:\n",
        "    print(' 體溫異常，請重新量測!')"
      ],
      "metadata": {
        "colab": {
          "base_uri": "https://localhost:8080/"
        },
        "id": "91JKkiZUWh3X",
        "outputId": "98fc07e5-c88d-4924-ab49-1896624c6396"
      },
      "execution_count": 11,
      "outputs": [
        {
          "output_type": "stream",
          "name": "stdout",
          "text": [
            "請輸入體溫: 40\n",
            " 體溫過高!\n"
          ]
        }
      ]
    },
    {
      "cell_type": "code",
      "source": [
        "score = int(input(\"請輸入成績: \"))\n",
        "if score >= 90:\n",
        "    print('Grade is: A')\n",
        "elif score >= 80-89:\n",
        "    print('Grade is: B')\n",
        "elif score >= 70-79:\n",
        "    print('Grade is: C')\n",
        "elif score >= 60-69:\n",
        "    print('Grade is: D')\n",
        "else:\n",
        "    print('Grade is: F')"
      ],
      "metadata": {
        "colab": {
          "base_uri": "https://localhost:8080/"
        },
        "id": "IyceHYPaVmGj",
        "outputId": "8bbeb99f-c130-4086-c459-eadcc33fe1eb"
      },
      "execution_count": 9,
      "outputs": [
        {
          "output_type": "stream",
          "name": "stdout",
          "text": [
            "請輸入成績: 55\n",
            "Grade is: B\n"
          ]
        }
      ]
    },
    {
      "cell_type": "code",
      "source": [
        "季節 = int(input(\"請輸入季節:\"))\n",
        "if 季節 = 3 or 4 or 5: \n",
        "  print('x月是春天')\n",
        "elif 季節 = 6 or 7 or 8:\n",
        "  print('x月是夏天')\n",
        "elif 季節 = 9 or 10 or 11:\n",
        "  print('x月是秋天')\n",
        "elif 季節 = 12 or 1 or 2:\n",
        "  print('x月是冬天')\n",
        "else:\n",
        "  print('月份不再範圍內')"
      ],
      "metadata": {
        "colab": {
          "base_uri": "https://localhost:8080/",
          "height": 132
        },
        "id": "xGAZg8C0Yyli",
        "outputId": "a5ca34a1-f23d-4ede-e3a3-2519272de8eb"
      },
      "execution_count": 14,
      "outputs": [
        {
          "output_type": "error",
          "ename": "SyntaxError",
          "evalue": "ignored",
          "traceback": [
            "\u001b[0;36m  File \u001b[0;32m\"<ipython-input-14-b6b46bce35af>\"\u001b[0;36m, line \u001b[0;32m2\u001b[0m\n\u001b[0;31m    if 季節 = 3 or 4 or 5:\u001b[0m\n\u001b[0m       ^\u001b[0m\n\u001b[0;31mSyntaxError\u001b[0m\u001b[0;31m:\u001b[0m invalid syntax. Maybe you meant '==' or ':=' instead of '='?\n"
          ]
        }
      ]
    },
    {
      "cell_type": "code",
      "source": [
        "score = int(input(\"請輸入今年收入金額: \"))\n",
        "if score >= 2000000:\n",
        "    print('稅率為0.3')\n",
        "elif score >= 1000000:\n",
        "    print('稅率為0.21')\n",
        "elif score >= 600000:\n",
        "    print('稅率為0.13')\n",
        "elif score >= 300000:\n",
        "    print('稅率為0.06')"
      ],
      "metadata": {
        "colab": {
          "base_uri": "https://localhost:8080/"
        },
        "id": "3uwDAL_LaqaW",
        "outputId": "bdd9e3ee-33ff-4c24-88c9-206de9411764"
      },
      "execution_count": 15,
      "outputs": [
        {
          "output_type": "stream",
          "name": "stdout",
          "text": [
            "請輸入今年收入金額: 500000\n",
            "稅率為0.06\n"
          ]
        }
      ]
    }
  ]
}